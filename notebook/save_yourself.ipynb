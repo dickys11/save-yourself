{
  "nbformat": 4,
  "nbformat_minor": 0,
  "metadata": {
    "colab": {
      "name": "save-yourself",
      "provenance": [],
      "collapsed_sections": [],
      "toc_visible": true,
      "authorship_tag": "ABX9TyOkYn5rDf6uw9Fx+IhGziCO",
      "include_colab_link": true
    },
    "kernelspec": {
      "name": "python3",
      "display_name": "Python 3"
    },
    "language_info": {
      "name": "python"
    },
    "accelerator": "GPU"
  },
  "cells": [
    {
      "cell_type": "markdown",
      "metadata": {
        "id": "view-in-github",
        "colab_type": "text"
      },
      "source": [
        "<a href=\"https://colab.research.google.com/github/dickys11/save-yourself/blob/main/notebook/save_yourself.ipynb\" target=\"_parent\"><img src=\"https://colab.research.google.com/assets/colab-badge.svg\" alt=\"Open In Colab\"/></a>"
      ]
    },
    {
      "cell_type": "markdown",
      "metadata": {
        "id": "D90rQNuoiHhY"
      },
      "source": [
        "# Import Module"
      ]
    },
    {
      "cell_type": "code",
      "metadata": {
        "id": "P1nP-5QDMNM6"
      },
      "source": [
        "import pandas as pd\n",
        "import numpy as np\n",
        "import matplotlib.pyplot as plt\n",
        "import tensorflow as tf"
      ],
      "execution_count": null,
      "outputs": []
    },
    {
      "cell_type": "markdown",
      "metadata": {
        "id": "H2sjK9h0iPwq"
      },
      "source": [
        "check current version of tensorflow"
      ]
    },
    {
      "cell_type": "code",
      "metadata": {
        "colab": {
          "base_uri": "https://localhost:8080/"
        },
        "id": "RfHQCtOt5uHv",
        "outputId": "d4dec7f1-7046-4920-eaa4-c1c2eeed75e1"
      },
      "source": [
        "print(tf.version.VERSION)"
      ],
      "execution_count": null,
      "outputs": [
        {
          "output_type": "stream",
          "text": [
            "2.5.0\n"
          ],
          "name": "stdout"
        }
      ]
    },
    {
      "cell_type": "markdown",
      "metadata": {
        "id": "C2MERosXiZES"
      },
      "source": [
        "#Download Dataset\n",
        "[This](https://github.com/andrebudiman/DatasetIndikasiDepresi) dataset contains 10082 data obtained from Twitter. The data has been through an annotaion proccess with pyscologist. This dataset contains two categories:\n",
        "1. Indication of depression\n",
        "1. No indication of depression"
      ]
    },
    {
      "cell_type": "code",
      "metadata": {
        "colab": {
          "base_uri": "https://localhost:8080/",
          "height": 629
        },
        "id": "R4nMP5ADNEXN",
        "outputId": "8a8bd9ec-05d8-4252-9009-0838db7dcbc6"
      },
      "source": [
        "raw_dataset = pd.read_csv('https://raw.githubusercontent.com/andrebudiman/DatasetIndikasiDepresi/main/Data10k_Csv.csv')\n",
        "raw_dataset.head()"
      ],
      "execution_count": null,
      "outputs": [
        {
          "output_type": "execute_result",
          "data": {
            "text/html": [
              "<div>\n",
              "<style scoped>\n",
              "    .dataframe tbody tr th:only-of-type {\n",
              "        vertical-align: middle;\n",
              "    }\n",
              "\n",
              "    .dataframe tbody tr th {\n",
              "        vertical-align: top;\n",
              "    }\n",
              "\n",
              "    .dataframe thead th {\n",
              "        text-align: right;\n",
              "    }\n",
              "</style>\n",
              "<table border=\"1\" class=\"dataframe\">\n",
              "  <thead>\n",
              "    <tr style=\"text-align: right;\">\n",
              "      <th></th>\n",
              "      <th>Unnamed: 0</th>\n",
              "      <th>tweet_id</th>\n",
              "      <th>length of word</th>\n",
              "      <th>location</th>\n",
              "      <th>username</th>\n",
              "      <th>tweet</th>\n",
              "      <th>deEmoji</th>\n",
              "      <th>cleanTweet</th>\n",
              "      <th>sentiment</th>\n",
              "      <th>date</th>\n",
              "    </tr>\n",
              "  </thead>\n",
              "  <tbody>\n",
              "    <tr>\n",
              "      <th>0</th>\n",
              "      <td>0</td>\n",
              "      <td>1.330000e+18</td>\n",
              "      <td>115</td>\n",
              "      <td>Jawa Barat</td>\n",
              "      <td>mamake_iam</td>\n",
              "      <td>mungkin kau selalu menduga\\r\\ndiriku tak perna...</td>\n",
              "      <td>mungkin kau selalu menduga diriku tak pernah m...</td>\n",
              "      <td>mungkin kau selalu menduga diriku tidak pernah...</td>\n",
              "      <td>Terindikasi Depresi</td>\n",
              "      <td>11/18/2020 15:43</td>\n",
              "    </tr>\n",
              "    <tr>\n",
              "      <th>1</th>\n",
              "      <td>1</td>\n",
              "      <td>1.330000e+18</td>\n",
              "      <td>90</td>\n",
              "      <td>Jawa Barat</td>\n",
              "      <td>atdarebel_05</td>\n",
              "      <td>Aku tidak kehilangan seorang teman pun. Aku ha...</td>\n",
              "      <td>aku tidak kehilangan seorang teman pun  aku ha...</td>\n",
              "      <td>aku tidak kehilangan seorang teman pun aku han...</td>\n",
              "      <td>Terindikasi Depresi</td>\n",
              "      <td>11/18/2020 15:41</td>\n",
              "    </tr>\n",
              "    <tr>\n",
              "      <th>2</th>\n",
              "      <td>2</td>\n",
              "      <td>1.330000e+18</td>\n",
              "      <td>268</td>\n",
              "      <td>Jawa Barat</td>\n",
              "      <td>wasikjogja</td>\n",
              "      <td>Manusia tidak akan pernah selesai dengan selur...</td>\n",
              "      <td>manusia  tidak akan pernah selesai dengan selu...</td>\n",
              "      <td>manusia tidak akan pernah selesai dengan selur...</td>\n",
              "      <td>Tidak Terindikasi</td>\n",
              "      <td>11/18/2020 15:40</td>\n",
              "    </tr>\n",
              "    <tr>\n",
              "      <th>3</th>\n",
              "      <td>3</td>\n",
              "      <td>1.330000e+18</td>\n",
              "      <td>246</td>\n",
              "      <td>Jawa Barat</td>\n",
              "      <td>RifqiMI</td>\n",
              "      <td>Aku menyesal bahwa selama ini aku tidak pernah...</td>\n",
              "      <td>aku menyesal  bahwa selama ini aku tidak perna...</td>\n",
              "      <td>aku menyesal bahwa selama ini aku tidak pernah...</td>\n",
              "      <td>Tidak Terindikasi</td>\n",
              "      <td>11/18/2020 15:39</td>\n",
              "    </tr>\n",
              "    <tr>\n",
              "      <th>4</th>\n",
              "      <td>4</td>\n",
              "      <td>1.330000e+18</td>\n",
              "      <td>162</td>\n",
              "      <td>Jawa Barat</td>\n",
              "      <td>bekna_sapa</td>\n",
              "      <td>Jangan pernah merasa sendiri lihatlah aku yang...</td>\n",
              "      <td>jangan pernah merasa sendiri  lihatlah aku yan...</td>\n",
              "      <td>jangan pernah merasa sendiri lihatlah aku yang...</td>\n",
              "      <td>Terindikasi Depresi</td>\n",
              "      <td>11/18/2020 15:33</td>\n",
              "    </tr>\n",
              "  </tbody>\n",
              "</table>\n",
              "</div>"
            ],
            "text/plain": [
              "   Unnamed: 0      tweet_id  ...            sentiment              date\n",
              "0           0  1.330000e+18  ...  Terindikasi Depresi  11/18/2020 15:43\n",
              "1           1  1.330000e+18  ...  Terindikasi Depresi  11/18/2020 15:41\n",
              "2           2  1.330000e+18  ...    Tidak Terindikasi  11/18/2020 15:40\n",
              "3           3  1.330000e+18  ...    Tidak Terindikasi  11/18/2020 15:39\n",
              "4           4  1.330000e+18  ...  Terindikasi Depresi  11/18/2020 15:33\n",
              "\n",
              "[5 rows x 10 columns]"
            ]
          },
          "metadata": {
            "tags": []
          },
          "execution_count": 3
        }
      ]
    },
    {
      "cell_type": "markdown",
      "metadata": {
        "id": "vYST2BeUj204"
      },
      "source": [
        "# Preprocessing\n",
        "Because we only need cleanTweet and sentiment columns, so let's copy the columns into new a dataset"
      ]
    },
    {
      "cell_type": "code",
      "metadata": {
        "colab": {
          "base_uri": "https://localhost:8080/",
          "height": 204
        },
        "id": "5FeXH7V4NTdU",
        "outputId": "3ba9c3c7-3065-4efd-9058-de209d96b0a3"
      },
      "source": [
        "raw_dataset = raw_dataset.copy()\n",
        "dataset = pd.DataFrame({\n",
        "      'text': raw_dataset['cleanTweet'],\n",
        "      'sentiment': raw_dataset['sentiment']\n",
        "     })\n",
        "dataset.head()"
      ],
      "execution_count": null,
      "outputs": [
        {
          "output_type": "execute_result",
          "data": {
            "text/html": [
              "<div>\n",
              "<style scoped>\n",
              "    .dataframe tbody tr th:only-of-type {\n",
              "        vertical-align: middle;\n",
              "    }\n",
              "\n",
              "    .dataframe tbody tr th {\n",
              "        vertical-align: top;\n",
              "    }\n",
              "\n",
              "    .dataframe thead th {\n",
              "        text-align: right;\n",
              "    }\n",
              "</style>\n",
              "<table border=\"1\" class=\"dataframe\">\n",
              "  <thead>\n",
              "    <tr style=\"text-align: right;\">\n",
              "      <th></th>\n",
              "      <th>text</th>\n",
              "      <th>sentiment</th>\n",
              "    </tr>\n",
              "  </thead>\n",
              "  <tbody>\n",
              "    <tr>\n",
              "      <th>0</th>\n",
              "      <td>mungkin kau selalu menduga diriku tidak pernah...</td>\n",
              "      <td>Terindikasi Depresi</td>\n",
              "    </tr>\n",
              "    <tr>\n",
              "      <th>1</th>\n",
              "      <td>aku tidak kehilangan seorang teman pun aku han...</td>\n",
              "      <td>Terindikasi Depresi</td>\n",
              "    </tr>\n",
              "    <tr>\n",
              "      <th>2</th>\n",
              "      <td>manusia tidak akan pernah selesai dengan selur...</td>\n",
              "      <td>Tidak Terindikasi</td>\n",
              "    </tr>\n",
              "    <tr>\n",
              "      <th>3</th>\n",
              "      <td>aku menyesal bahwa selama ini aku tidak pernah...</td>\n",
              "      <td>Tidak Terindikasi</td>\n",
              "    </tr>\n",
              "    <tr>\n",
              "      <th>4</th>\n",
              "      <td>jangan pernah merasa sendiri lihatlah aku yang...</td>\n",
              "      <td>Terindikasi Depresi</td>\n",
              "    </tr>\n",
              "  </tbody>\n",
              "</table>\n",
              "</div>"
            ],
            "text/plain": [
              "                                                text            sentiment\n",
              "0  mungkin kau selalu menduga diriku tidak pernah...  Terindikasi Depresi\n",
              "1  aku tidak kehilangan seorang teman pun aku han...  Terindikasi Depresi\n",
              "2  manusia tidak akan pernah selesai dengan selur...    Tidak Terindikasi\n",
              "3  aku menyesal bahwa selama ini aku tidak pernah...    Tidak Terindikasi\n",
              "4  jangan pernah merasa sendiri lihatlah aku yang...  Terindikasi Depresi"
            ]
          },
          "metadata": {
            "tags": []
          },
          "execution_count": 4
        }
      ]
    },
    {
      "cell_type": "markdown",
      "metadata": {
        "id": "dSoyJeqykYYT"
      },
      "source": [
        "check the info of the dataset, there is 10082 entries with no null values"
      ]
    },
    {
      "cell_type": "code",
      "metadata": {
        "colab": {
          "base_uri": "https://localhost:8080/"
        },
        "id": "uYHdnv1DORL3",
        "outputId": "05889e3a-2bf0-4289-bf41-5ac0b0846599"
      },
      "source": [
        "dataset.info()"
      ],
      "execution_count": null,
      "outputs": [
        {
          "output_type": "stream",
          "text": [
            "<class 'pandas.core.frame.DataFrame'>\n",
            "RangeIndex: 10082 entries, 0 to 10081\n",
            "Data columns (total 2 columns):\n",
            " #   Column     Non-Null Count  Dtype \n",
            "---  ------     --------------  ----- \n",
            " 0   text       10082 non-null  object\n",
            " 1   sentiment  10082 non-null  object\n",
            "dtypes: object(2)\n",
            "memory usage: 157.7+ KB\n"
          ],
          "name": "stdout"
        }
      ]
    },
    {
      "cell_type": "markdown",
      "metadata": {
        "id": "vfEvNZTAk1Cp"
      },
      "source": [
        "Transform the sentiment column into 0 for indication of depression, and 1 for no indication of depression"
      ]
    },
    {
      "cell_type": "code",
      "metadata": {
        "id": "rhujFycOOwRD",
        "colab": {
          "base_uri": "https://localhost:8080/",
          "height": 419
        },
        "outputId": "4e412d3a-5b76-4581-89db-6279e81d8b4d"
      },
      "source": [
        "dataset['sentiment'] = dataset['sentiment'].astype('category')\n",
        "dataset['sentiment'] = dataset['sentiment'].cat.codes\n",
        "dataset"
      ],
      "execution_count": null,
      "outputs": [
        {
          "output_type": "execute_result",
          "data": {
            "text/html": [
              "<div>\n",
              "<style scoped>\n",
              "    .dataframe tbody tr th:only-of-type {\n",
              "        vertical-align: middle;\n",
              "    }\n",
              "\n",
              "    .dataframe tbody tr th {\n",
              "        vertical-align: top;\n",
              "    }\n",
              "\n",
              "    .dataframe thead th {\n",
              "        text-align: right;\n",
              "    }\n",
              "</style>\n",
              "<table border=\"1\" class=\"dataframe\">\n",
              "  <thead>\n",
              "    <tr style=\"text-align: right;\">\n",
              "      <th></th>\n",
              "      <th>text</th>\n",
              "      <th>sentiment</th>\n",
              "    </tr>\n",
              "  </thead>\n",
              "  <tbody>\n",
              "    <tr>\n",
              "      <th>0</th>\n",
              "      <td>mungkin kau selalu menduga diriku tidak pernah...</td>\n",
              "      <td>0</td>\n",
              "    </tr>\n",
              "    <tr>\n",
              "      <th>1</th>\n",
              "      <td>aku tidak kehilangan seorang teman pun aku han...</td>\n",
              "      <td>0</td>\n",
              "    </tr>\n",
              "    <tr>\n",
              "      <th>2</th>\n",
              "      <td>manusia tidak akan pernah selesai dengan selur...</td>\n",
              "      <td>1</td>\n",
              "    </tr>\n",
              "    <tr>\n",
              "      <th>3</th>\n",
              "      <td>aku menyesal bahwa selama ini aku tidak pernah...</td>\n",
              "      <td>1</td>\n",
              "    </tr>\n",
              "    <tr>\n",
              "      <th>4</th>\n",
              "      <td>jangan pernah merasa sendiri lihatlah aku yang...</td>\n",
              "      <td>0</td>\n",
              "    </tr>\n",
              "    <tr>\n",
              "      <th>...</th>\n",
              "      <td>...</td>\n",
              "      <td>...</td>\n",
              "    </tr>\n",
              "    <tr>\n",
              "      <th>10077</th>\n",
              "      <td>mungkin benar apa yang dikatakan krisna kepada...</td>\n",
              "      <td>1</td>\n",
              "    </tr>\n",
              "    <tr>\n",
              "      <th>10078</th>\n",
              "      <td>om coach saya tidak pernah mengunjungi twitter...</td>\n",
              "      <td>0</td>\n",
              "    </tr>\n",
              "    <tr>\n",
              "      <th>10079</th>\n",
              "      <td>aku paham motif pelaku pembantaian di sigi buk...</td>\n",
              "      <td>1</td>\n",
              "    </tr>\n",
              "    <tr>\n",
              "      <th>10080</th>\n",
              "      <td>thank kamu mas esaa biasanya aku tidak akan pe...</td>\n",
              "      <td>0</td>\n",
              "    </tr>\n",
              "    <tr>\n",
              "      <th>10081</th>\n",
              "      <td>hanya rasa yang harus dilupa apakahh hanya aku...</td>\n",
              "      <td>0</td>\n",
              "    </tr>\n",
              "  </tbody>\n",
              "</table>\n",
              "<p>10082 rows × 2 columns</p>\n",
              "</div>"
            ],
            "text/plain": [
              "                                                    text  sentiment\n",
              "0      mungkin kau selalu menduga diriku tidak pernah...          0\n",
              "1      aku tidak kehilangan seorang teman pun aku han...          0\n",
              "2      manusia tidak akan pernah selesai dengan selur...          1\n",
              "3      aku menyesal bahwa selama ini aku tidak pernah...          1\n",
              "4      jangan pernah merasa sendiri lihatlah aku yang...          0\n",
              "...                                                  ...        ...\n",
              "10077  mungkin benar apa yang dikatakan krisna kepada...          1\n",
              "10078  om coach saya tidak pernah mengunjungi twitter...          0\n",
              "10079  aku paham motif pelaku pembantaian di sigi buk...          1\n",
              "10080  thank kamu mas esaa biasanya aku tidak akan pe...          0\n",
              "10081  hanya rasa yang harus dilupa apakahh hanya aku...          0\n",
              "\n",
              "[10082 rows x 2 columns]"
            ]
          },
          "metadata": {
            "tags": []
          },
          "execution_count": 6
        }
      ]
    },
    {
      "cell_type": "markdown",
      "metadata": {
        "id": "aQdtYCmHls8Q"
      },
      "source": [
        "Split the dataset into train and test set, with 80% training 20% test"
      ]
    },
    {
      "cell_type": "code",
      "metadata": {
        "id": "Qg7-vYFIZYi6"
      },
      "source": [
        "train = dataset.sample(frac=0.8,random_state=200) #random state is a seed value\n",
        "test = dataset.drop(train.index)"
      ],
      "execution_count": null,
      "outputs": []
    },
    {
      "cell_type": "code",
      "metadata": {
        "colab": {
          "base_uri": "https://localhost:8080/"
        },
        "id": "2SJKP8b2hqbY",
        "outputId": "10d590a8-a184-43af-b0f2-4ad8ee048419"
      },
      "source": [
        "print(len(train))\n",
        "print(len(test))"
      ],
      "execution_count": null,
      "outputs": [
        {
          "output_type": "stream",
          "text": [
            "8066\n",
            "2016\n"
          ],
          "name": "stdout"
        }
      ]
    },
    {
      "cell_type": "markdown",
      "metadata": {
        "id": "vJLFWbEdl4c6"
      },
      "source": [
        "Split the test in half to test set and validation set"
      ]
    },
    {
      "cell_type": "code",
      "metadata": {
        "colab": {
          "base_uri": "https://localhost:8080/"
        },
        "id": "qH44l10ZhyGY",
        "outputId": "e49cc726-4e68-44b3-c839-7a8019540381"
      },
      "source": [
        "test1 = test.sample(frac=0.5,random_state=200) #random state is a seed value\n",
        "val = test.drop(test1.index)\n",
        "\n",
        "print(len(test1))\n",
        "print(len(val))"
      ],
      "execution_count": null,
      "outputs": [
        {
          "output_type": "stream",
          "text": [
            "1008\n",
            "1008\n"
          ],
          "name": "stdout"
        }
      ]
    },
    {
      "cell_type": "markdown",
      "metadata": {
        "id": "AXtSYG7mmCNK"
      },
      "source": [
        "Check the target column (sentiment), the target class is unbalance. Resampling the data to get a balance data, since it will affects the model performance"
      ]
    },
    {
      "cell_type": "code",
      "metadata": {
        "colab": {
          "base_uri": "https://localhost:8080/",
          "height": 295
        },
        "id": "tamRzE90igRo",
        "outputId": "cf857bab-fb97-48c0-b071-6932aced52e7"
      },
      "source": [
        "train.sentiment.value_counts().plot(kind='bar', title='Count (target)')"
      ],
      "execution_count": null,
      "outputs": [
        {
          "output_type": "execute_result",
          "data": {
            "text/plain": [
              "<matplotlib.axes._subplots.AxesSubplot at 0x7fcab7738f90>"
            ]
          },
          "metadata": {
            "tags": []
          },
          "execution_count": 10
        },
        {
          "output_type": "display_data",
          "data": {
            "image/png": "[encoded data removed]",
            "text/plain": [
              "<Figure size 432x288 with 1 Axes>"
            ]
          },
          "metadata": {
            "tags": [],
            "needs_background": "light"
          }
        }
      ]
    },
    {
      "cell_type": "markdown",
      "metadata": {
        "id": "ru2OPlCCmofd"
      },
      "source": [
        "seperate the sentiment 0 and sentimen 1"
      ]
    },
    {
      "cell_type": "code",
      "metadata": {
        "id": "nXFjrS84WykS"
      },
      "source": [
        "s0 = train[train['sentiment'] == 0]\n",
        "s1 = train[train['sentiment'] == 1]\n",
        "\n",
        "count_s0 = len(s0)\n",
        "count_s1 = len(s1)"
      ],
      "execution_count": null,
      "outputs": []
    },
    {
      "cell_type": "markdown",
      "metadata": {
        "id": "ErY9dh3Km54w"
      },
      "source": [
        "because the sentiment 0 has a more data, we need to undersampling the sentiment 1 so it will match with sentiment 0"
      ]
    },
    {
      "cell_type": "code",
      "metadata": {
        "id": "1LtxhujIaD7q"
      },
      "source": [
        "s1_under = s1.sample(count_s0)"
      ],
      "execution_count": null,
      "outputs": []
    },
    {
      "cell_type": "code",
      "metadata": {
        "colab": {
          "base_uri": "https://localhost:8080/",
          "height": 346
        },
        "id": "_QUZZ5hUaRp1",
        "outputId": "ba186d3c-23f7-482e-fbc6-331bb60e6536"
      },
      "source": [
        "df_train_under = pd.concat([s0, s1_under], axis=0)\n",
        "\n",
        "print('Random under-sampling:')\n",
        "print(df_train_under.sentiment.value_counts())\n",
        "\n",
        "df_train_under.sentiment.value_counts().plot(kind='bar', title='Count (target)');\n"
      ],
      "execution_count": null,
      "outputs": [
        {
          "output_type": "stream",
          "text": [
            "Random under-sampling:\n",
            "1    3622\n",
            "0    3622\n",
            "Name: sentiment, dtype: int64\n"
          ],
          "name": "stdout"
        },
        {
          "output_type": "display_data",
          "data": {
            "image/png": "[encoded data removed]",
            "text/plain": [
              "<Figure size 432x288 with 1 Axes>"
            ]
          },
          "metadata": {
            "tags": [],
            "needs_background": "light"
          }
        }
      ]
    },
    {
      "cell_type": "markdown",
      "metadata": {
        "id": "fkg-tf8VnNCc"
      },
      "source": [
        "After that is done. We can now procceds to create the tensor dataset from the dataset above"
      ]
    },
    {
      "cell_type": "code",
      "metadata": {
        "id": "VbhpJ4VPPTjd"
      },
      "source": [
        "train_dataset = tf.data.Dataset.from_tensor_slices((\n",
        "  df_train_under['text'].values,\n",
        "  df_train_under['sentiment'].values \n",
        "))\n",
        "\n",
        "test_dataset = tf.data.Dataset.from_tensor_slices((\n",
        "    test1['text'].values,\n",
        "    test1['sentiment'].values\n",
        "))\n",
        "\n",
        "val_dataset = tf.data.Dataset.from_tensor_slices((\n",
        "    val['text'].values,\n",
        "    val['sentiment'].values\n",
        "))"
      ],
      "execution_count": null,
      "outputs": []
    },
    {
      "cell_type": "markdown",
      "metadata": {
        "id": "gfhpsOv3nbJg"
      },
      "source": [
        "Shuffle the train set, and batch the train and the other set with batch_size = 10"
      ]
    },
    {
      "cell_type": "code",
      "metadata": {
        "id": "U-qa0BP2SO3C",
        "colab": {
          "base_uri": "https://localhost:8080/"
        },
        "outputId": "42a12def-ff4a-4b92-b8ad-4f7a00895e68"
      },
      "source": [
        "BATCH_SIZE = 10\n",
        "\n",
        "train_dataset = train_dataset.shuffle(len(train_dataset)).batch(BATCH_SIZE)\n",
        "test_dataset = test_dataset.batch(BATCH_SIZE)\n",
        "val_dataset = val_dataset.batch(BATCH_SIZE)\n",
        "\n",
        "print(len(train_dataset))\n",
        "print(len(test_dataset))\n",
        "print(len(val_dataset))"
      ],
      "execution_count": null,
      "outputs": [
        {
          "output_type": "stream",
          "text": [
            "725\n",
            "101\n",
            "101\n"
          ],
          "name": "stdout"
        }
      ]
    },
    {
      "cell_type": "code",
      "metadata": {
        "colab": {
          "base_uri": "https://localhost:8080/"
        },
        "id": "53TQPp98ZIFn",
        "outputId": "f90239f6-c48c-41d1-d694-cc04d3cdda5a"
      },
      "source": [
        "for example, label in train_dataset.take(1):\n",
        "  print('texts: ', example.numpy()[:3])\n",
        "  print()\n",
        "  print('labels: ', label.numpy()[:3])"
      ],
      "execution_count": null,
      "outputs": [
        {
          "output_type": "stream",
          "text": [
            "texts:  [b'aku tidak menyesal pernah menyayangi seseorang dengan tulus dan sepenuh hati meskipun pada akhirnya aku diabaikan bahkan ditinggalkan tanpa pernah dianggap'\n",
            " b'kita boleh berpisah tapi jangan pernah melupa aku tidak apa kita hanya sebatas teman bukan berarti aku ingin kembali melainkan hanya ingin melihat kamu bicara'\n",
            " b' aku tidak pernah bermain untuk hasil seri dalam hidupku']\n",
            "\n",
            "labels:  [1 0 1]\n"
          ],
          "name": "stdout"
        }
      ]
    },
    {
      "cell_type": "markdown",
      "metadata": {
        "id": "1XVrsmBT9CLx"
      },
      "source": [
        "# Create the encoder"
      ]
    },
    {
      "cell_type": "code",
      "metadata": {
        "id": "MvDGUqp-UYYG"
      },
      "source": [
        "VOCAB_SIZE = 1000\n",
        "encoder = tf.keras.layers.experimental.preprocessing.TextVectorization(\n",
        "    max_tokens=VOCAB_SIZE)\n",
        "encoder.adapt(train_dataset.map(lambda text, label: text))"
      ],
      "execution_count": null,
      "outputs": []
    },
    {
      "cell_type": "code",
      "metadata": {
        "colab": {
          "base_uri": "https://localhost:8080/"
        },
        "id": "eRQl2-_zVN4o",
        "outputId": "987e5d0e-9cd7-4354-fb09-cedda35ed5d8"
      },
      "source": [
        "vocab = np.array(encoder.get_vocabulary())\n",
        "vocab[:20]"
      ],
      "execution_count": null,
      "outputs": [
        {
          "output_type": "execute_result",
          "data": {
            "text/plain": [
              "array(['', '[UNK]', 'aku', 'tidak', 'pernah', 'yang', 'kamu', 'dan',\n",
              "       'selalu', 'tapi', 'sendiri', 'itu', 'akan', 'orang', 'ini', 'di',\n",
              "       'untuk', 'ada', 'sama', 'bisa'], dtype='<U14')"
            ]
          },
          "metadata": {
            "tags": []
          },
          "execution_count": 18
        }
      ]
    },
    {
      "cell_type": "markdown",
      "metadata": {
        "id": "wjAii39y9OGm"
      },
      "source": [
        "# Create the model"
      ]
    },
    {
      "cell_type": "code",
      "metadata": {
        "id": "ZQZPjBMHVRUc"
      },
      "source": [
        "model = tf.keras.Sequential([\n",
        "    encoder,\n",
        "    tf.keras.layers.Embedding(\n",
        "        input_dim=len(encoder.get_vocabulary()),\n",
        "        output_dim=64,\n",
        "        # Use masking to handle the variable sequence lengths\n",
        "        mask_zero=True),\n",
        "    tf.keras.layers.Bidirectional(tf.keras.layers.LSTM(64, return_sequences=True)),\n",
        "    tf.keras.layers.Bidirectional(tf.keras.layers.LSTM(32)),\n",
        "    tf.keras.layers.Dense(32, activation='relu'),\n",
        "    tf.keras.layers.Dropout(0.5),\n",
        "    tf.keras.layers.Dense(1, activation='sigmoid')\n",
        "])\n"
      ],
      "execution_count": null,
      "outputs": []
    },
    {
      "cell_type": "markdown",
      "metadata": {
        "id": "stKDb9779RM6"
      },
      "source": [
        "Create callbacks to stop training when accuracy has meet the threshold"
      ]
    },
    {
      "cell_type": "code",
      "metadata": {
        "id": "eJOvjK23rYEB"
      },
      "source": [
        "class myCallbacks(tf.keras.callbacks.Callback):\n",
        "    def __init__(self, threshold):\n",
        "        super(myCallbacks, self).__init__()\n",
        "        self.threshold = threshold\n",
        "\n",
        "    def on_epoch_end(self, epoch, logs=None): \n",
        "        val_acc = logs[\"val_accuracy\"]\n",
        "        if val_acc >= self.threshold:\n",
        "            self.model.stop_training = True\n",
        "\n",
        "my_callback = myCallbacks(threshold=0.97)"
      ],
      "execution_count": null,
      "outputs": []
    },
    {
      "cell_type": "markdown",
      "metadata": {
        "id": "0H0vUYqf9dWG"
      },
      "source": [
        "Test the model, the one with padding and without padding should have similar result"
      ]
    },
    {
      "cell_type": "code",
      "metadata": {
        "colab": {
          "base_uri": "https://localhost:8080/"
        },
        "id": "yC3T-EG8Vr2Z",
        "outputId": "08ed1e05-8e58-4574-f096-3826d29fbe82"
      },
      "source": [
        "sample_text = ('Cape rasanya hidup pengen udahan aja lah')\n",
        "predictions = model.predict(np.array([sample_text]))\n",
        "print(predictions[0])"
      ],
      "execution_count": null,
      "outputs": [
        {
          "output_type": "stream",
          "text": [
            "[0.5000839]\n"
          ],
          "name": "stdout"
        }
      ]
    },
    {
      "cell_type": "code",
      "metadata": {
        "colab": {
          "base_uri": "https://localhost:8080/"
        },
        "id": "YqHmY-77V3vw",
        "outputId": "69642b5c-c907-433a-f1a9-532bc543adc8"
      },
      "source": [
        "padding = \"lah \" * 2000\n",
        "predictions = model.predict(np.array([sample_text, padding]))\n",
        "print(predictions[0])"
      ],
      "execution_count": null,
      "outputs": [
        {
          "output_type": "stream",
          "text": [
            "[0.5000839]\n"
          ],
          "name": "stdout"
        }
      ]
    },
    {
      "cell_type": "markdown",
      "metadata": {
        "id": "8PZ1qHHO9mtK"
      },
      "source": [
        "Compile the model using BinaryCrossentropy and Adam Optimizer with Learning Rate 1e-3"
      ]
    },
    {
      "cell_type": "code",
      "metadata": {
        "id": "3bhZiSfiV-QT"
      },
      "source": [
        "model.compile(loss=tf.keras.losses.BinaryCrossentropy(),\n",
        "              optimizer=tf.keras.optimizers.Adam(1e-3),\n",
        "              metrics=['accuracy'])"
      ],
      "execution_count": null,
      "outputs": []
    },
    {
      "cell_type": "code",
      "metadata": {
        "colab": {
          "base_uri": "https://localhost:8080/"
        },
        "id": "qVaxi0yIWMKE",
        "outputId": "7a810fa7-cbbb-4646-db03-bec3f4ac88d5"
      },
      "source": [
        "history = model.fit(train_dataset, epochs=40,\n",
        "                    validation_data=val_dataset,\n",
        "                    validation_steps=10,\n",
        "                    callbacks=[my_callback])"
      ],
      "execution_count": null,
      "outputs": [
        {
          "output_type": "stream",
          "text": [
            "Epoch 1/40\n",
            "725/725 [==============================] - 71s 82ms/step - loss: 0.5551 - accuracy: 0.7073 - val_loss: 0.4634 - val_accuracy: 0.7900\n",
            "Epoch 2/40\n",
            "725/725 [==============================] - 56s 77ms/step - loss: 0.3732 - accuracy: 0.8448 - val_loss: 0.2825 - val_accuracy: 0.9100\n",
            "Epoch 3/40\n",
            "725/725 [==============================] - 55s 76ms/step - loss: 0.2549 - accuracy: 0.9079 - val_loss: 0.2274 - val_accuracy: 0.9400\n",
            "Epoch 4/40\n",
            "725/725 [==============================] - 55s 77ms/step - loss: 0.1700 - accuracy: 0.9428 - val_loss: 0.1536 - val_accuracy: 0.9400\n",
            "Epoch 5/40\n",
            "725/725 [==============================] - 55s 76ms/step - loss: 0.1226 - accuracy: 0.9607 - val_loss: 0.0842 - val_accuracy: 0.9800\n"
          ],
          "name": "stdout"
        }
      ]
    },
    {
      "cell_type": "markdown",
      "metadata": {
        "id": "8BSHBsIz98uH"
      },
      "source": [
        "# Evaluate the model\n",
        "Evaluate the model using the test set, the accuary has decrease a little bit from the validation accuracy"
      ]
    },
    {
      "cell_type": "code",
      "metadata": {
        "colab": {
          "base_uri": "https://localhost:8080/"
        },
        "id": "1uO2K3dNWRAO",
        "outputId": "a6757fbe-0aa3-405f-e24d-aa15bf562bf8"
      },
      "source": [
        "test_loss, test_acc = model.evaluate(test_dataset)\n",
        "\n",
        "print('Test Loss:', test_loss)\n",
        "print('Test Accuracy:', test_acc)"
      ],
      "execution_count": null,
      "outputs": [
        {
          "output_type": "stream",
          "text": [
            "101/101 [==============================] - 1s 9ms/step - loss: 0.2983 - accuracy: 0.8968\n",
            "Test Loss: 0.29826587438583374\n",
            "Test Accuracy: 0.89682537317276\n"
          ],
          "name": "stdout"
        }
      ]
    },
    {
      "cell_type": "markdown",
      "metadata": {
        "id": "M7Wkr5IZ-Lys"
      },
      "source": [
        "# Save the model"
      ]
    },
    {
      "cell_type": "code",
      "metadata": {
        "colab": {
          "base_uri": "https://localhost:8080/"
        },
        "id": "M_h6KPlg3fmH",
        "outputId": "19e8085b-22dc-4fd1-e830-e35640707d8f"
      },
      "source": [
        "model.save('sys_model')"
      ],
      "execution_count": null,
      "outputs": [
        {
          "output_type": "stream",
          "text": [
            "WARNING:absl:Found untraced functions such as lstm_cell_1_layer_call_and_return_conditional_losses, lstm_cell_1_layer_call_fn, lstm_cell_2_layer_call_and_return_conditional_losses, lstm_cell_2_layer_call_fn, lstm_cell_4_layer_call_and_return_conditional_losses while saving (showing 5 of 20). These functions will not be directly callable after loading.\n",
            "WARNING:absl:Found untraced functions such as lstm_cell_1_layer_call_and_return_conditional_losses, lstm_cell_1_layer_call_fn, lstm_cell_2_layer_call_and_return_conditional_losses, lstm_cell_2_layer_call_fn, lstm_cell_4_layer_call_and_return_conditional_losses while saving (showing 5 of 20). These functions will not be directly callable after loading.\n"
          ],
          "name": "stderr"
        },
        {
          "output_type": "stream",
          "text": [
            "INFO:tensorflow:Assets written to: sys_model/assets\n"
          ],
          "name": "stdout"
        },
        {
          "output_type": "stream",
          "text": [
            "INFO:tensorflow:Assets written to: sys_model/assets\n"
          ],
          "name": "stderr"
        }
      ]
    },
    {
      "cell_type": "code",
      "metadata": {
        "colab": {
          "base_uri": "https://localhost:8080/"
        },
        "id": "QIobKnUx-Fnf",
        "outputId": "a0d2c516-53ff-4497-bfa4-8753f0dcf6a1"
      },
      "source": [
        "!zip -r /content/sys_model.zip /content/sys_model"
      ],
      "execution_count": null,
      "outputs": [
        {
          "output_type": "stream",
          "text": [
            "  adding: content/sys_model/ (stored 0%)\n",
            "  adding: content/sys_model/assets/ (stored 0%)\n",
            "  adding: content/sys_model/keras_metadata.pb (deflated 91%)\n",
            "  adding: content/sys_model/saved_model.pb (deflated 90%)\n",
            "  adding: content/sys_model/variables/ (stored 0%)\n",
            "  adding: content/sys_model/variables/variables.data-00000-of-00001 (deflated 7%)\n",
            "  adding: content/sys_model/variables/variables.index (deflated 69%)\n"
          ],
          "name": "stdout"
        }
      ]
    },
    {
      "cell_type": "code",
      "metadata": {
        "id": "Bx2LFmmD_HkN"
      },
      "source": [
        "new_model = tf.keras.models.load_model('/content/sys_model')"
      ],
      "execution_count": null,
      "outputs": []
    },
    {
      "cell_type": "code",
      "metadata": {
        "colab": {
          "base_uri": "https://localhost:8080/"
        },
        "id": "0qWwfvbY_WSZ",
        "outputId": "72a795da-8b69-4fba-bbc5-d3e745356a89"
      },
      "source": [
        "new_model.summary()"
      ],
      "execution_count": null,
      "outputs": [
        {
          "output_type": "stream",
          "text": [
            "Model: \"sequential\"\n",
            "_________________________________________________________________\n",
            "Layer (type)                 Output Shape              Param #   \n",
            "=================================================================\n",
            "text_vectorization (TextVect (None, None)              0         \n",
            "_________________________________________________________________\n",
            "embedding (Embedding)        (None, None, 64)          64000     \n",
            "_________________________________________________________________\n",
            "bidirectional (Bidirectional (None, None, 128)         66048     \n",
            "_________________________________________________________________\n",
            "bidirectional_1 (Bidirection (None, 64)                41216     \n",
            "_________________________________________________________________\n",
            "dense (Dense)                (None, 32)                2080      \n",
            "_________________________________________________________________\n",
            "dropout (Dropout)            (None, 32)                0         \n",
            "_________________________________________________________________\n",
            "dense_1 (Dense)              (None, 1)                 33        \n",
            "=================================================================\n",
            "Total params: 173,377\n",
            "Trainable params: 173,377\n",
            "Non-trainable params: 0\n",
            "_________________________________________________________________\n"
          ],
          "name": "stdout"
        }
      ]
    },
    {
      "cell_type": "code",
      "metadata": {
        "colab": {
          "base_uri": "https://localhost:8080/"
        },
        "id": "k6Dp-nbd_kMz",
        "outputId": "f4c52b09-e8c2-4e33-fc3c-426c5fa212ff"
      },
      "source": [
        "test_loss, test_acc = new_model.evaluate(test_dataset)\n",
        "\n",
        "print('Test Loss:', test_loss)\n",
        "print('Test Accuracy:', test_acc)"
      ],
      "execution_count": null,
      "outputs": [
        {
          "output_type": "stream",
          "text": [
            "101/101 [==============================] - 5s 15ms/step - loss: 0.2983 - accuracy: 0.8968\n",
            "Test Loss: 0.29826584458351135\n",
            "Test Accuracy: 0.89682537317276\n"
          ],
          "name": "stdout"
        }
      ]
    },
    {
      "cell_type": "code",
      "metadata": {
        "colab": {
          "base_uri": "https://localhost:8080/"
        },
        "id": "gpgBBWaltgGV",
        "outputId": "f9fd5234-7043-4a17-de76-7a96a8c1926b"
      },
      "source": [
        "for example, label in test_dataset.take(2):\n",
        "  print('texts: ', example.numpy()[:3])\n",
        "  print()\n",
        "  print('labels: ', label.numpy()[:3])"
      ],
      "execution_count": null,
      "outputs": [
        {
          "output_type": "stream",
          "text": [
            "texts:  [b'aku ingin kau selalu ada disini untuk temani hari yang terus berganti karena aku tidak pernah mau untuk sendiri raga dan jiwaku nyaman bersamamu daun jatuh antara pagi dan kau'\n",
            " b'alhamdulillah tidak pernah dan jangan sampai pasti karena doa orangtua yang selalu menyertai dan allah tau aku tidak bisa minta tolong siapa kalau sakit dan tidak pernah memaksakan diri juga kalau badan tidak kuat berenti istirahat toh kalau sakit yang peduli cuma keluarga'\n",
            " b'nabi bersabda barangsiapa yang mengatakan atas namaku apa-apa perkataan yang tidak pernah aku ucapkan maka hendaklah ia mengambil tempat duduknya di neraka hadits shahih riwayat imam bukhari dll hadits ini diriwayatkan juga oleh imam ahmad dengan lafadz yang sama']\n",
            "\n",
            "labels:  [1 1 1]\n",
            "texts:  [b'ning demi aku yang pernah ada dihatimu pergi saja dengan kekasihmu yang baru dan aku yang terluka oleh hatimu mencoba mengobati perihku sendiri'\n",
            " b'kamu selalu tau apa yang aku inginkan namun kamu tidak pernah ingin aku mengatakannya'\n",
            " b'aku memang berjalan pelan pelan tapi aku tidak pernah berjalan mundur ']\n",
            "\n",
            "labels:  [0 0 1]\n"
          ],
          "name": "stdout"
        }
      ]
    },
    {
      "cell_type": "code",
      "metadata": {
        "colab": {
          "base_uri": "https://localhost:8080/"
        },
        "id": "89CV4YRfXnwX",
        "outputId": "ffdfc418-00ed-4a55-9f28-fd869e0ee7e6"
      },
      "source": [
        "sample_text = ['kamu selalu tau apa yang aku inginkan namun kamu tidak pernah ingin aku mengatakannya',\n",
        "               'ning demi aku yang pernah ada dihatimu pergi saja dengan kekasihmu yang baru dan aku yang terluka oleh hatimu mencoba mengobati perihku sendiri']\n",
        "for text in sample_text:\n",
        "  predictions = new_model.predict([text])\n",
        "  if predictions > 0.5:\n",
        "    print('Tidak terindikasi depresi')\n",
        "  else:\n",
        "    print('Terindikasi depresi')"
      ],
      "execution_count": null,
      "outputs": [
        {
          "output_type": "stream",
          "text": [
            "Terindikasi depresi\n",
            "Terindikasi depresi\n"
          ],
          "name": "stdout"
        }
      ]
    },
    {
      "cell_type": "markdown",
      "metadata": {
        "id": "JDwqYfu2-Sjq"
      },
      "source": [
        "# Plot the graph"
      ]
    },
    {
      "cell_type": "code",
      "metadata": {
        "colab": {
          "base_uri": "https://localhost:8080/",
          "height": 388
        },
        "id": "d5W2b6AeX4dc",
        "outputId": "fdfd339d-514c-4a9f-fa72-ddc79c4bdf47"
      },
      "source": [
        "import matplotlib.pyplot as plt\n",
        "\n",
        "def plot_graphs(history, metric):\n",
        "  plt.plot(history.history[metric])\n",
        "  plt.plot(history.history['val_'+metric], '')\n",
        "  plt.xlabel(\"Epochs\")\n",
        "  plt.ylabel(metric)\n",
        "  plt.legend([metric, 'val_'+metric])\n",
        "\n",
        "\n",
        "plt.figure(figsize=(16, 6))\n",
        "plt.subplot(1, 2, 1)\n",
        "plot_graphs(history, 'accuracy')\n",
        "plt.subplot(1, 2, 2)\n",
        "plot_graphs(history, 'loss')"
      ],
      "execution_count": null,
      "outputs": [
        {
          "output_type": "display_data",
          "data": {
            "image/png": "[encoded data removed]",
            "text/plain": [
              "<Figure size 1152x432 with 2 Axes>"
            ]
          },
          "metadata": {
            "tags": [],
            "needs_background": "light"
          }
        }
      ]
    },
    {
      "cell_type": "code",
      "metadata": {
        "id": "e4f4BKcKY1Aq"
      },
      "source": [
        ""
      ],
      "execution_count": null,
      "outputs": []
    }
  ]
}