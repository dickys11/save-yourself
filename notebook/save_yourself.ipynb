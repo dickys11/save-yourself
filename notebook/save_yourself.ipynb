{
  "nbformat": 4,
  "nbformat_minor": 0,
  "metadata": {
    "colab": {
      "name": "save-yourself",
      "provenance": [],
      "collapsed_sections": [],
      "toc_visible": true,
      "include_colab_link": true
    },
    "kernelspec": {
      "name": "python3",
      "display_name": "Python 3"
    },
    "language_info": {
      "name": "python"
    },
    "accelerator": "GPU"
  },
  "cells": [
    {
      "cell_type": "markdown",
      "metadata": {
        "id": "view-in-github",
        "colab_type": "text"
      },
      "source": [
        "<a href=\"https://colab.research.google.com/github/dickys11/save-yourself/blob/main/notebook/save_yourself.ipynb\" target=\"_parent\"><img src=\"https://colab.research.google.com/assets/colab-badge.svg\" alt=\"Open In Colab\"/></a>"
      ]
    },
    {
      "cell_type": "markdown",
      "metadata": {
        "id": "D90rQNuoiHhY"
      },
      "source": [
        "# Import Module"
      ]
    },
    {
      "cell_type": "code",
      "metadata": {
        "id": "P1nP-5QDMNM6"
      },
      "source": [
        "import pandas as pd\n",
        "import numpy as np\n",
        "import matplotlib.pyplot as plt\n",
        "import tensorflow as tf"
      ],
      "execution_count": 1,
      "outputs": []
    },
    {
      "cell_type": "markdown",
      "metadata": {
        "id": "H2sjK9h0iPwq"
      },
      "source": [
        "check current version of tensorflow"
      ]
    },
    {
      "cell_type": "code",
      "metadata": {
        "colab": {
          "base_uri": "https://localhost:8080/"
        },
        "id": "RfHQCtOt5uHv",
        "outputId": "85278ec5-f008-4f7a-884d-163146d2a27f"
      },
      "source": [
        "print(tf.version.VERSION)"
      ],
      "execution_count": 2,
      "outputs": [
        {
          "output_type": "stream",
          "text": [
            "2.5.0\n"
          ],
          "name": "stdout"
        }
      ]
    },
    {
      "cell_type": "markdown",
      "metadata": {
        "id": "C2MERosXiZES"
      },
      "source": [
        "#Download Dataset\n",
        "[This](https://github.com/andrebudiman/DatasetIndikasiDepresi) dataset contains 10082 data obtained from Twitter. The data has been through an annotaion proccess with pyscologist. This dataset contains two categories:\n",
        "1. Indication of depression\n",
        "1. No indication of depression"
      ]
    },
    {
      "cell_type": "code",
      "metadata": {
        "colab": {
          "base_uri": "https://localhost:8080/",
          "height": 374
        },
        "id": "R4nMP5ADNEXN",
        "outputId": "d585cec8-e462-4e3b-c3b9-5f3d78edb71e"
      },
      "source": [
        "raw_dataset = pd.read_csv('https://raw.githubusercontent.com/andrebudiman/DatasetIndikasiDepresi/main/Data10k_Csv.csv')\n",
        "raw_dataset.head()"
      ],
      "execution_count": 3,
      "outputs": [
        {
          "output_type": "execute_result",
          "data": {
            "text/html": [
              "<div>\n",
              "<style scoped>\n",
              "    .dataframe tbody tr th:only-of-type {\n",
              "        vertical-align: middle;\n",
              "    }\n",
              "\n",
              "    .dataframe tbody tr th {\n",
              "        vertical-align: top;\n",
              "    }\n",
              "\n",
              "    .dataframe thead th {\n",
              "        text-align: right;\n",
              "    }\n",
              "</style>\n",
              "<table border=\"1\" class=\"dataframe\">\n",
              "  <thead>\n",
              "    <tr style=\"text-align: right;\">\n",
              "      <th></th>\n",
              "      <th>Unnamed: 0</th>\n",
              "      <th>tweet_id</th>\n",
              "      <th>length of word</th>\n",
              "      <th>location</th>\n",
              "      <th>username</th>\n",
              "      <th>tweet</th>\n",
              "      <th>deEmoji</th>\n",
              "      <th>cleanTweet</th>\n",
              "      <th>sentiment</th>\n",
              "      <th>date</th>\n",
              "    </tr>\n",
              "  </thead>\n",
              "  <tbody>\n",
              "    <tr>\n",
              "      <th>0</th>\n",
              "      <td>0</td>\n",
              "      <td>1.330000e+18</td>\n",
              "      <td>115</td>\n",
              "      <td>Jawa Barat</td>\n",
              "      <td>mamake_iam</td>\n",
              "      <td>mungkin kau selalu menduga\\r\\ndiriku tak perna...</td>\n",
              "      <td>mungkin kau selalu menduga diriku tak pernah m...</td>\n",
              "      <td>mungkin kau selalu menduga diriku tidak pernah...</td>\n",
              "      <td>Terindikasi Depresi</td>\n",
              "      <td>11/18/2020 15:43</td>\n",
              "    </tr>\n",
              "    <tr>\n",
              "      <th>1</th>\n",
              "      <td>1</td>\n",
              "      <td>1.330000e+18</td>\n",
              "      <td>90</td>\n",
              "      <td>Jawa Barat</td>\n",
              "      <td>atdarebel_05</td>\n",
              "      <td>Aku tidak kehilangan seorang teman pun. Aku ha...</td>\n",
              "      <td>aku tidak kehilangan seorang teman pun  aku ha...</td>\n",
              "      <td>aku tidak kehilangan seorang teman pun aku han...</td>\n",
              "      <td>Terindikasi Depresi</td>\n",
              "      <td>11/18/2020 15:41</td>\n",
              "    </tr>\n",
              "    <tr>\n",
              "      <th>2</th>\n",
              "      <td>2</td>\n",
              "      <td>1.330000e+18</td>\n",
              "      <td>268</td>\n",
              "      <td>Jawa Barat</td>\n",
              "      <td>wasikjogja</td>\n",
              "      <td>Manusia tidak akan pernah selesai dengan selur...</td>\n",
              "      <td>manusia  tidak akan pernah selesai dengan selu...</td>\n",
              "      <td>manusia tidak akan pernah selesai dengan selur...</td>\n",
              "      <td>Tidak Terindikasi</td>\n",
              "      <td>11/18/2020 15:40</td>\n",
              "    </tr>\n",
              "    <tr>\n",
              "      <th>3</th>\n",
              "      <td>3</td>\n",
              "      <td>1.330000e+18</td>\n",
              "      <td>246</td>\n",
              "      <td>Jawa Barat</td>\n",
              "      <td>RifqiMI</td>\n",
              "      <td>Aku menyesal bahwa selama ini aku tidak pernah...</td>\n",
              "      <td>aku menyesal  bahwa selama ini aku tidak perna...</td>\n",
              "      <td>aku menyesal bahwa selama ini aku tidak pernah...</td>\n",
              "      <td>Tidak Terindikasi</td>\n",
              "      <td>11/18/2020 15:39</td>\n",
              "    </tr>\n",
              "    <tr>\n",
              "      <th>4</th>\n",
              "      <td>4</td>\n",
              "      <td>1.330000e+18</td>\n",
              "      <td>162</td>\n",
              "      <td>Jawa Barat</td>\n",
              "      <td>bekna_sapa</td>\n",
              "      <td>Jangan pernah merasa sendiri lihatlah aku yang...</td>\n",
              "      <td>jangan pernah merasa sendiri  lihatlah aku yan...</td>\n",
              "      <td>jangan pernah merasa sendiri lihatlah aku yang...</td>\n",
              "      <td>Terindikasi Depresi</td>\n",
              "      <td>11/18/2020 15:33</td>\n",
              "    </tr>\n",
              "  </tbody>\n",
              "</table>\n",
              "</div>"
            ],
            "text/plain": [
              "   Unnamed: 0      tweet_id  ...            sentiment              date\n",
              "0           0  1.330000e+18  ...  Terindikasi Depresi  11/18/2020 15:43\n",
              "1           1  1.330000e+18  ...  Terindikasi Depresi  11/18/2020 15:41\n",
              "2           2  1.330000e+18  ...    Tidak Terindikasi  11/18/2020 15:40\n",
              "3           3  1.330000e+18  ...    Tidak Terindikasi  11/18/2020 15:39\n",
              "4           4  1.330000e+18  ...  Terindikasi Depresi  11/18/2020 15:33\n",
              "\n",
              "[5 rows x 10 columns]"
            ]
          },
          "metadata": {
            "tags": []
          },
          "execution_count": 3
        }
      ]
    },
    {
      "cell_type": "markdown",
      "metadata": {
        "id": "vYST2BeUj204"
      },
      "source": [
        "# Preprocessing\n",
        "Because we only need cleanTweet and sentiment columns, so let's copy the columns into new a dataset"
      ]
    },
    {
      "cell_type": "code",
      "metadata": {
        "colab": {
          "base_uri": "https://localhost:8080/",
          "height": 204
        },
        "id": "5FeXH7V4NTdU",
        "outputId": "ffcfbf1d-97c6-41cf-a595-3b7b2c0dfa11"
      },
      "source": [
        "raw_dataset = raw_dataset.copy()\n",
        "dataset = pd.DataFrame({\n",
        "      'text': raw_dataset['cleanTweet'],\n",
        "      'sentiment': raw_dataset['sentiment']\n",
        "     })\n",
        "dataset.head()"
      ],
      "execution_count": 4,
      "outputs": [
        {
          "output_type": "execute_result",
          "data": {
            "text/html": [
              "<div>\n",
              "<style scoped>\n",
              "    .dataframe tbody tr th:only-of-type {\n",
              "        vertical-align: middle;\n",
              "    }\n",
              "\n",
              "    .dataframe tbody tr th {\n",
              "        vertical-align: top;\n",
              "    }\n",
              "\n",
              "    .dataframe thead th {\n",
              "        text-align: right;\n",
              "    }\n",
              "</style>\n",
              "<table border=\"1\" class=\"dataframe\">\n",
              "  <thead>\n",
              "    <tr style=\"text-align: right;\">\n",
              "      <th></th>\n",
              "      <th>text</th>\n",
              "      <th>sentiment</th>\n",
              "    </tr>\n",
              "  </thead>\n",
              "  <tbody>\n",
              "    <tr>\n",
              "      <th>0</th>\n",
              "      <td>mungkin kau selalu menduga diriku tidak pernah...</td>\n",
              "      <td>Terindikasi Depresi</td>\n",
              "    </tr>\n",
              "    <tr>\n",
              "      <th>1</th>\n",
              "      <td>aku tidak kehilangan seorang teman pun aku han...</td>\n",
              "      <td>Terindikasi Depresi</td>\n",
              "    </tr>\n",
              "    <tr>\n",
              "      <th>2</th>\n",
              "      <td>manusia tidak akan pernah selesai dengan selur...</td>\n",
              "      <td>Tidak Terindikasi</td>\n",
              "    </tr>\n",
              "    <tr>\n",
              "      <th>3</th>\n",
              "      <td>aku menyesal bahwa selama ini aku tidak pernah...</td>\n",
              "      <td>Tidak Terindikasi</td>\n",
              "    </tr>\n",
              "    <tr>\n",
              "      <th>4</th>\n",
              "      <td>jangan pernah merasa sendiri lihatlah aku yang...</td>\n",
              "      <td>Terindikasi Depresi</td>\n",
              "    </tr>\n",
              "  </tbody>\n",
              "</table>\n",
              "</div>"
            ],
            "text/plain": [
              "                                                text            sentiment\n",
              "0  mungkin kau selalu menduga diriku tidak pernah...  Terindikasi Depresi\n",
              "1  aku tidak kehilangan seorang teman pun aku han...  Terindikasi Depresi\n",
              "2  manusia tidak akan pernah selesai dengan selur...    Tidak Terindikasi\n",
              "3  aku menyesal bahwa selama ini aku tidak pernah...    Tidak Terindikasi\n",
              "4  jangan pernah merasa sendiri lihatlah aku yang...  Terindikasi Depresi"
            ]
          },
          "metadata": {
            "tags": []
          },
          "execution_count": 4
        }
      ]
    },
    {
      "cell_type": "markdown",
      "metadata": {
        "id": "dSoyJeqykYYT"
      },
      "source": [
        "check the info of the dataset, there is 10082 entries with no null values"
      ]
    },
    {
      "cell_type": "code",
      "metadata": {
        "colab": {
          "base_uri": "https://localhost:8080/"
        },
        "id": "uYHdnv1DORL3",
        "outputId": "1f802ae4-8b58-4e7c-c6c9-4deca4afd91b"
      },
      "source": [
        "dataset.info()"
      ],
      "execution_count": 5,
      "outputs": [
        {
          "output_type": "stream",
          "text": [
            "<class 'pandas.core.frame.DataFrame'>\n",
            "RangeIndex: 10082 entries, 0 to 10081\n",
            "Data columns (total 2 columns):\n",
            " #   Column     Non-Null Count  Dtype \n",
            "---  ------     --------------  ----- \n",
            " 0   text       10082 non-null  object\n",
            " 1   sentiment  10082 non-null  object\n",
            "dtypes: object(2)\n",
            "memory usage: 157.7+ KB\n"
          ],
          "name": "stdout"
        }
      ]
    },
    {
      "cell_type": "markdown",
      "metadata": {
        "id": "vfEvNZTAk1Cp"
      },
      "source": [
        "Transform the sentiment column into 0 for indication of depression, and 1 for no indication of depression"
      ]
    },
    {
      "cell_type": "code",
      "metadata": {
        "id": "rhujFycOOwRD",
        "colab": {
          "base_uri": "https://localhost:8080/",
          "height": 419
        },
        "outputId": "76d1fc2d-f0b3-45ea-bab6-1077e2eade1f"
      },
      "source": [
        "dataset['sentiment'] = dataset['sentiment'].astype('category')\n",
        "dataset['sentiment'] = dataset['sentiment'].cat.codes\n",
        "dataset"
      ],
      "execution_count": 6,
      "outputs": [
        {
          "output_type": "execute_result",
          "data": {
            "text/html": [
              "<div>\n",
              "<style scoped>\n",
              "    .dataframe tbody tr th:only-of-type {\n",
              "        vertical-align: middle;\n",
              "    }\n",
              "\n",
              "    .dataframe tbody tr th {\n",
              "        vertical-align: top;\n",
              "    }\n",
              "\n",
              "    .dataframe thead th {\n",
              "        text-align: right;\n",
              "    }\n",
              "</style>\n",
              "<table border=\"1\" class=\"dataframe\">\n",
              "  <thead>\n",
              "    <tr style=\"text-align: right;\">\n",
              "      <th></th>\n",
              "      <th>text</th>\n",
              "      <th>sentiment</th>\n",
              "    </tr>\n",
              "  </thead>\n",
              "  <tbody>\n",
              "    <tr>\n",
              "      <th>0</th>\n",
              "      <td>mungkin kau selalu menduga diriku tidak pernah...</td>\n",
              "      <td>0</td>\n",
              "    </tr>\n",
              "    <tr>\n",
              "      <th>1</th>\n",
              "      <td>aku tidak kehilangan seorang teman pun aku han...</td>\n",
              "      <td>0</td>\n",
              "    </tr>\n",
              "    <tr>\n",
              "      <th>2</th>\n",
              "      <td>manusia tidak akan pernah selesai dengan selur...</td>\n",
              "      <td>1</td>\n",
              "    </tr>\n",
              "    <tr>\n",
              "      <th>3</th>\n",
              "      <td>aku menyesal bahwa selama ini aku tidak pernah...</td>\n",
              "      <td>1</td>\n",
              "    </tr>\n",
              "    <tr>\n",
              "      <th>4</th>\n",
              "      <td>jangan pernah merasa sendiri lihatlah aku yang...</td>\n",
              "      <td>0</td>\n",
              "    </tr>\n",
              "    <tr>\n",
              "      <th>...</th>\n",
              "      <td>...</td>\n",
              "      <td>...</td>\n",
              "    </tr>\n",
              "    <tr>\n",
              "      <th>10077</th>\n",
              "      <td>mungkin benar apa yang dikatakan krisna kepada...</td>\n",
              "      <td>1</td>\n",
              "    </tr>\n",
              "    <tr>\n",
              "      <th>10078</th>\n",
              "      <td>om coach saya tidak pernah mengunjungi twitter...</td>\n",
              "      <td>0</td>\n",
              "    </tr>\n",
              "    <tr>\n",
              "      <th>10079</th>\n",
              "      <td>aku paham motif pelaku pembantaian di sigi buk...</td>\n",
              "      <td>1</td>\n",
              "    </tr>\n",
              "    <tr>\n",
              "      <th>10080</th>\n",
              "      <td>thank kamu mas esaa biasanya aku tidak akan pe...</td>\n",
              "      <td>0</td>\n",
              "    </tr>\n",
              "    <tr>\n",
              "      <th>10081</th>\n",
              "      <td>hanya rasa yang harus dilupa apakahh hanya aku...</td>\n",
              "      <td>0</td>\n",
              "    </tr>\n",
              "  </tbody>\n",
              "</table>\n",
              "<p>10082 rows × 2 columns</p>\n",
              "</div>"
            ],
            "text/plain": [
              "                                                    text  sentiment\n",
              "0      mungkin kau selalu menduga diriku tidak pernah...          0\n",
              "1      aku tidak kehilangan seorang teman pun aku han...          0\n",
              "2      manusia tidak akan pernah selesai dengan selur...          1\n",
              "3      aku menyesal bahwa selama ini aku tidak pernah...          1\n",
              "4      jangan pernah merasa sendiri lihatlah aku yang...          0\n",
              "...                                                  ...        ...\n",
              "10077  mungkin benar apa yang dikatakan krisna kepada...          1\n",
              "10078  om coach saya tidak pernah mengunjungi twitter...          0\n",
              "10079  aku paham motif pelaku pembantaian di sigi buk...          1\n",
              "10080  thank kamu mas esaa biasanya aku tidak akan pe...          0\n",
              "10081  hanya rasa yang harus dilupa apakahh hanya aku...          0\n",
              "\n",
              "[10082 rows x 2 columns]"
            ]
          },
          "metadata": {
            "tags": []
          },
          "execution_count": 6
        }
      ]
    },
    {
      "cell_type": "markdown",
      "metadata": {
        "id": "aQdtYCmHls8Q"
      },
      "source": [
        "Split the dataset into train and test set, with 80% training 20% test"
      ]
    },
    {
      "cell_type": "code",
      "metadata": {
        "id": "Qg7-vYFIZYi6"
      },
      "source": [
        "train = dataset.sample(frac=0.8,random_state=200) #random state is a seed value\n",
        "test = dataset.drop(train.index)"
      ],
      "execution_count": 7,
      "outputs": []
    },
    {
      "cell_type": "code",
      "metadata": {
        "colab": {
          "base_uri": "https://localhost:8080/"
        },
        "id": "2SJKP8b2hqbY",
        "outputId": "81243548-caa9-4e9d-a8c5-2c3fd3a66957"
      },
      "source": [
        "print(len(train))\n",
        "print(len(test))"
      ],
      "execution_count": 8,
      "outputs": [
        {
          "output_type": "stream",
          "text": [
            "8066\n",
            "2016\n"
          ],
          "name": "stdout"
        }
      ]
    },
    {
      "cell_type": "markdown",
      "metadata": {
        "id": "vJLFWbEdl4c6"
      },
      "source": [
        "Split the test in half to test set and validation set"
      ]
    },
    {
      "cell_type": "code",
      "metadata": {
        "colab": {
          "base_uri": "https://localhost:8080/"
        },
        "id": "qH44l10ZhyGY",
        "outputId": "415fef05-8bc8-496b-e855-869db3d2bc3b"
      },
      "source": [
        "test1 = test.sample(frac=0.5,random_state=200) #random state is a seed value\n",
        "val = test.drop(test1.index)\n",
        "\n",
        "print(len(test1))\n",
        "print(len(val))"
      ],
      "execution_count": 9,
      "outputs": [
        {
          "output_type": "stream",
          "text": [
            "1008\n",
            "1008\n"
          ],
          "name": "stdout"
        }
      ]
    },
    {
      "cell_type": "markdown",
      "metadata": {
        "id": "AXtSYG7mmCNK"
      },
      "source": [
        "Check the target column (sentiment), the target class is unbalance. Resampling the data to get a balance data, since it will affects the model performance"
      ]
    },
    {
      "cell_type": "code",
      "metadata": {
        "colab": {
          "base_uri": "https://localhost:8080/",
          "height": 295
        },
        "id": "tamRzE90igRo",
        "outputId": "c9224a2e-edc7-49b6-a73d-4eec0e0fc40e"
      },
      "source": [
        "train.sentiment.value_counts().plot(kind='bar', title='Count (target)')"
      ],
      "execution_count": 10,
      "outputs": [
        {
          "output_type": "execute_result",
          "data": {
            "text/plain": [
              "<matplotlib.axes._subplots.AxesSubplot at 0x7fee0ff1b610>"
            ]
          },
          "metadata": {
            "tags": []
          },
          "execution_count": 10
        },
        {
          "output_type": "display_data",
          "data": {
            "image/png": "[encoded data removed]",
            "text/plain": [
              "<Figure size 432x288 with 1 Axes>"
            ]
          },
          "metadata": {
            "tags": [],
            "needs_background": "light"
          }
        }
      ]
    },
    {
      "cell_type": "markdown",
      "metadata": {
        "id": "ru2OPlCCmofd"
      },
      "source": [
        "seperate the sentiment 0 and sentimen 1"
      ]
    },
    {
      "cell_type": "code",
      "metadata": {
        "id": "nXFjrS84WykS"
      },
      "source": [
        "s0 = train[train['sentiment'] == 0]\n",
        "s1 = train[train['sentiment'] == 1]\n",
        "\n",
        "count_s0 = len(s0)\n",
        "count_s1 = len(s1)"
      ],
      "execution_count": 11,
      "outputs": []
    },
    {
      "cell_type": "markdown",
      "metadata": {
        "id": "ErY9dh3Km54w"
      },
      "source": [
        "because the sentiment 0 has a more data, we need to undersampling the sentiment 1 so it will match with sentiment 0"
      ]
    },
    {
      "cell_type": "code",
      "metadata": {
        "id": "1LtxhujIaD7q"
      },
      "source": [
        "s1_under = s1.sample(count_s0)"
      ],
      "execution_count": 12,
      "outputs": []
    },
    {
      "cell_type": "code",
      "metadata": {
        "colab": {
          "base_uri": "https://localhost:8080/",
          "height": 346
        },
        "id": "_QUZZ5hUaRp1",
        "outputId": "6373b99a-a74d-4a32-d5df-e123574d8dae"
      },
      "source": [
        "df_train_under = pd.concat([s0, s1_under], axis=0)\n",
        "\n",
        "print('Random under-sampling:')\n",
        "print(df_train_under.sentiment.value_counts())\n",
        "\n",
        "df_train_under.sentiment.value_counts().plot(kind='bar', title='Count (target)');\n"
      ],
      "execution_count": 13,
      "outputs": [
        {
          "output_type": "stream",
          "text": [
            "Random under-sampling:\n",
            "1    3622\n",
            "0    3622\n",
            "Name: sentiment, dtype: int64\n"
          ],
          "name": "stdout"
        },
        {
          "output_type": "display_data",
          "data": {
            "image/png": "[encoded data removed]",
            "text/plain": [
              "<Figure size 432x288 with 1 Axes>"
            ]
          },
          "metadata": {
            "tags": [],
            "needs_background": "light"
          }
        }
      ]
    },
    {
      "cell_type": "markdown",
      "metadata": {
        "id": "fkg-tf8VnNCc"
      },
      "source": [
        "After that is done. We can now procceds to create the tensor dataset from the dataset above"
      ]
    },
    {
      "cell_type": "code",
      "metadata": {
        "id": "VbhpJ4VPPTjd"
      },
      "source": [
        "train_dataset = tf.data.Dataset.from_tensor_slices((\n",
        "  df_train_under['text'].values,\n",
        "  df_train_under['sentiment'].values \n",
        "))\n",
        "\n",
        "test_dataset = tf.data.Dataset.from_tensor_slices((\n",
        "    test1['text'].values,\n",
        "    test1['sentiment'].values\n",
        "))\n",
        "\n",
        "val_dataset = tf.data.Dataset.from_tensor_slices((\n",
        "    val['text'].values,\n",
        "    val['sentiment'].values\n",
        "))"
      ],
      "execution_count": 14,
      "outputs": []
    },
    {
      "cell_type": "markdown",
      "metadata": {
        "id": "gfhpsOv3nbJg"
      },
      "source": [
        "Shuffle the train set, and batch the train and the other set with batch_size = 10"
      ]
    },
    {
      "cell_type": "code",
      "metadata": {
        "id": "U-qa0BP2SO3C",
        "colab": {
          "base_uri": "https://localhost:8080/"
        },
        "outputId": "ceb4c9a0-073f-47a5-be8d-5ea398c2a777"
      },
      "source": [
        "BATCH_SIZE = 10\n",
        "\n",
        "train_dataset = train_dataset.shuffle(len(train_dataset)).batch(BATCH_SIZE)\n",
        "test_dataset = test_dataset.batch(BATCH_SIZE)\n",
        "val_dataset = val_dataset.batch(BATCH_SIZE)\n",
        "\n",
        "print(len(train_dataset))\n",
        "print(len(test_dataset))\n",
        "print(len(val_dataset))"
      ],
      "execution_count": 15,
      "outputs": [
        {
          "output_type": "stream",
          "text": [
            "725\n",
            "101\n",
            "101\n"
          ],
          "name": "stdout"
        }
      ]
    },
    {
      "cell_type": "code",
      "metadata": {
        "colab": {
          "base_uri": "https://localhost:8080/"
        },
        "id": "53TQPp98ZIFn",
        "outputId": "3aa40968-64ce-4f96-dd06-3697f1cdd8f4"
      },
      "source": [
        "for example, label in train_dataset.take(1):\n",
        "  print('texts: ', example.numpy()[:3])\n",
        "  print()\n",
        "  print('labels: ', label.numpy()[:3])"
      ],
      "execution_count": 16,
      "outputs": [
        {
          "output_type": "stream",
          "text": [
            "texts:  [b'dan aku tidak akan pernah memaksakan seseorang ada di dalam kehidupanku'\n",
            " b'aku memilih untuk sendiri bukan karena menunggu yang sempurna tetapi butuh yang tidak pernah menyerah'\n",
            " b'sedang merasa sendiri dan ingin sendiri dulu tapi kenapa ada juga rasa menunggu menunggu dia kembali salahkah mungkin salah tapi apa yang aku alami kalian tidak akan pernah mengerti dan tau']\n",
            "\n",
            "labels:  [1 1 0]\n"
          ],
          "name": "stdout"
        }
      ]
    },
    {
      "cell_type": "markdown",
      "metadata": {
        "id": "1XVrsmBT9CLx"
      },
      "source": [
        "# Create the encoder"
      ]
    },
    {
      "cell_type": "code",
      "metadata": {
        "id": "MvDGUqp-UYYG"
      },
      "source": [
        "VOCAB_SIZE = 1000\n",
        "encoder = tf.keras.layers.experimental.preprocessing.TextVectorization(\n",
        "    max_tokens=VOCAB_SIZE)\n",
        "encoder.adapt(train_dataset.map(lambda text, label: text))"
      ],
      "execution_count": 17,
      "outputs": []
    },
    {
      "cell_type": "code",
      "metadata": {
        "colab": {
          "base_uri": "https://localhost:8080/"
        },
        "id": "eRQl2-_zVN4o",
        "outputId": "88f7b0a5-cc61-4adc-d6c1-67cf3e6cd160"
      },
      "source": [
        "vocab = np.array(encoder.get_vocabulary())\n",
        "vocab[:20]"
      ],
      "execution_count": 18,
      "outputs": [
        {
          "output_type": "execute_result",
          "data": {
            "text/plain": [
              "array(['', '[UNK]', 'aku', 'tidak', 'pernah', 'yang', 'kamu', 'dan',\n",
              "       'selalu', 'tapi', 'sendiri', 'itu', 'akan', 'orang', 'ini', 'di',\n",
              "       'ada', 'untuk', 'sama', 'bisa'], dtype='<U14')"
            ]
          },
          "metadata": {
            "tags": []
          },
          "execution_count": 18
        }
      ]
    },
    {
      "cell_type": "markdown",
      "metadata": {
        "id": "wjAii39y9OGm"
      },
      "source": [
        "# Create the model"
      ]
    },
    {
      "cell_type": "code",
      "metadata": {
        "id": "ZQZPjBMHVRUc"
      },
      "source": [
        "model = tf.keras.Sequential([\n",
        "    encoder,\n",
        "    tf.keras.layers.Embedding(\n",
        "        input_dim=len(encoder.get_vocabulary()),\n",
        "        output_dim=64,\n",
        "        # Use masking to handle the variable sequence lengths\n",
        "        mask_zero=True),\n",
        "    tf.keras.layers.Bidirectional(tf.keras.layers.LSTM(64, return_sequences=True)),\n",
        "    tf.keras.layers.Bidirectional(tf.keras.layers.LSTM(32)),\n",
        "    tf.keras.layers.Dense(32, activation='relu'),\n",
        "    tf.keras.layers.Dropout(0.5),\n",
        "    tf.keras.layers.Dense(1, activation='sigmoid')\n",
        "])\n"
      ],
      "execution_count": 19,
      "outputs": []
    },
    {
      "cell_type": "markdown",
      "metadata": {
        "id": "stKDb9779RM6"
      },
      "source": [
        "Create callbacks to stop training when accuracy has meet the threshold"
      ]
    },
    {
      "cell_type": "code",
      "metadata": {
        "id": "eJOvjK23rYEB"
      },
      "source": [
        "class myCallbacks(tf.keras.callbacks.Callback):\n",
        "    def __init__(self, threshold):\n",
        "        super(myCallbacks, self).__init__()\n",
        "        self.threshold = threshold\n",
        "\n",
        "    def on_epoch_end(self, epoch, logs=None): \n",
        "        val_acc = logs[\"val_accuracy\"]\n",
        "        if val_acc >= self.threshold:\n",
        "            self.model.stop_training = True\n",
        "\n",
        "my_callback = myCallbacks(threshold=0.97)"
      ],
      "execution_count": 20,
      "outputs": []
    },
    {
      "cell_type": "markdown",
      "metadata": {
        "id": "0H0vUYqf9dWG"
      },
      "source": [
        "Test the model, the one with padding and without padding should have similar result"
      ]
    },
    {
      "cell_type": "code",
      "metadata": {
        "colab": {
          "base_uri": "https://localhost:8080/"
        },
        "id": "yC3T-EG8Vr2Z",
        "outputId": "870d9949-a638-46cb-ca92-3b999d10a1b6"
      },
      "source": [
        "sample_text = ('Cape rasanya hidup pengen udahan aja lah')\n",
        "predictions = model.predict(np.array([sample_text]))\n",
        "print(predictions[0])"
      ],
      "execution_count": 21,
      "outputs": [
        {
          "output_type": "stream",
          "text": [
            "[0.49805653]\n"
          ],
          "name": "stdout"
        }
      ]
    },
    {
      "cell_type": "code",
      "metadata": {
        "colab": {
          "base_uri": "https://localhost:8080/"
        },
        "id": "YqHmY-77V3vw",
        "outputId": "5eea5f5e-ffc5-4948-94a6-f9b44597ebfd"
      },
      "source": [
        "padding = \"lah \" * 2000\n",
        "predictions = model.predict(np.array([sample_text, padding]))\n",
        "print(predictions[0])"
      ],
      "execution_count": 22,
      "outputs": [
        {
          "output_type": "stream",
          "text": [
            "[0.49805653]\n"
          ],
          "name": "stdout"
        }
      ]
    },
    {
      "cell_type": "markdown",
      "metadata": {
        "id": "8PZ1qHHO9mtK"
      },
      "source": [
        "Compile the model using BinaryCrossentropy and Adam Optimizer with Learning Rate 1e-3"
      ]
    },
    {
      "cell_type": "code",
      "metadata": {
        "id": "3bhZiSfiV-QT"
      },
      "source": [
        "model.compile(loss=tf.keras.losses.BinaryCrossentropy(),\n",
        "              optimizer=tf.keras.optimizers.Adam(1e-3),\n",
        "              metrics=['accuracy'])"
      ],
      "execution_count": 23,
      "outputs": []
    },
    {
      "cell_type": "code",
      "metadata": {
        "colab": {
          "base_uri": "https://localhost:8080/"
        },
        "id": "qVaxi0yIWMKE",
        "outputId": "56c94197-1b16-461b-c001-ba07a21d7ab5"
      },
      "source": [
        "history = model.fit(train_dataset, epochs=40,\n",
        "                    validation_data=val_dataset,\n",
        "                    validation_steps=10,\n",
        "                    callbacks=[my_callback])"
      ],
      "execution_count": 24,
      "outputs": [
        {
          "output_type": "stream",
          "text": [
            "Epoch 1/40\n",
            "725/725 [==============================] - 29s 24ms/step - loss: 0.5509 - accuracy: 0.7218 - val_loss: 0.4214 - val_accuracy: 0.8100\n",
            "Epoch 2/40\n",
            "725/725 [==============================] - 14s 19ms/step - loss: 0.3713 - accuracy: 0.8534 - val_loss: 0.2947 - val_accuracy: 0.8900\n",
            "Epoch 3/40\n",
            "725/725 [==============================] - 14s 19ms/step - loss: 0.2753 - accuracy: 0.9032 - val_loss: 0.2256 - val_accuracy: 0.9500\n",
            "Epoch 4/40\n",
            "725/725 [==============================] - 14s 19ms/step - loss: 0.2001 - accuracy: 0.9299 - val_loss: 0.2089 - val_accuracy: 0.9300\n",
            "Epoch 5/40\n",
            "725/725 [==============================] - 14s 19ms/step - loss: 0.1427 - accuracy: 0.9522 - val_loss: 0.1609 - val_accuracy: 0.9500\n",
            "Epoch 6/40\n",
            "725/725 [==============================] - 14s 19ms/step - loss: 0.1125 - accuracy: 0.9654 - val_loss: 0.2069 - val_accuracy: 0.9300\n",
            "Epoch 7/40\n",
            "725/725 [==============================] - 14s 19ms/step - loss: 0.0802 - accuracy: 0.9752 - val_loss: 0.1319 - val_accuracy: 0.9600\n",
            "Epoch 8/40\n",
            "725/725 [==============================] - 14s 19ms/step - loss: 0.0639 - accuracy: 0.9787 - val_loss: 0.2095 - val_accuracy: 0.9500\n",
            "Epoch 9/40\n",
            "725/725 [==============================] - 14s 19ms/step - loss: 0.0547 - accuracy: 0.9819 - val_loss: 0.2221 - val_accuracy: 0.9600\n",
            "Epoch 10/40\n",
            "725/725 [==============================] - 14s 19ms/step - loss: 0.0461 - accuracy: 0.9854 - val_loss: 0.1650 - val_accuracy: 0.9700\n"
          ],
          "name": "stdout"
        }
      ]
    },
    {
      "cell_type": "markdown",
      "metadata": {
        "id": "8BSHBsIz98uH"
      },
      "source": [
        "# Evaluate the model\n",
        "Evaluate the model using the test set, the accuary has decrease a little bit from the validation accuracy"
      ]
    },
    {
      "cell_type": "code",
      "metadata": {
        "colab": {
          "base_uri": "https://localhost:8080/"
        },
        "id": "1uO2K3dNWRAO",
        "outputId": "9ccedb2e-4e3f-4d5d-acf9-d7705b1dfa49"
      },
      "source": [
        "test_loss, test_acc = model.evaluate(test_dataset)\n",
        "\n",
        "print('Test Loss:', test_loss)\n",
        "print('Test Accuracy:', test_acc)"
      ],
      "execution_count": 25,
      "outputs": [
        {
          "output_type": "stream",
          "text": [
            "101/101 [==============================] - 1s 7ms/step - loss: 0.3883 - accuracy: 0.9177\n",
            "Test Loss: 0.38827553391456604\n",
            "Test Accuracy: 0.9176587462425232\n"
          ],
          "name": "stdout"
        }
      ]
    },
    {
      "cell_type": "markdown",
      "metadata": {
        "id": "M7Wkr5IZ-Lys"
      },
      "source": [
        "# Save the model"
      ]
    },
    {
      "cell_type": "code",
      "metadata": {
        "colab": {
          "base_uri": "https://localhost:8080/"
        },
        "id": "M_h6KPlg3fmH",
        "outputId": "512857cf-16a9-4b07-82d6-f1eeb124b801"
      },
      "source": [
        "model.save('sys_model')"
      ],
      "execution_count": 26,
      "outputs": [
        {
          "output_type": "stream",
          "text": [
            "WARNING:absl:Found untraced functions such as lstm_cell_1_layer_call_and_return_conditional_losses, lstm_cell_1_layer_call_fn, lstm_cell_2_layer_call_and_return_conditional_losses, lstm_cell_2_layer_call_fn, lstm_cell_4_layer_call_and_return_conditional_losses while saving (showing 5 of 20). These functions will not be directly callable after loading.\n"
          ],
          "name": "stderr"
        },
        {
          "output_type": "stream",
          "text": [
            "INFO:tensorflow:Assets written to: sys_model/assets\n"
          ],
          "name": "stdout"
        },
        {
          "output_type": "stream",
          "text": [
            "INFO:tensorflow:Assets written to: sys_model/assets\n"
          ],
          "name": "stderr"
        }
      ]
    },
    {
      "cell_type": "code",
      "metadata": {
        "colab": {
          "base_uri": "https://localhost:8080/"
        },
        "id": "QIobKnUx-Fnf",
        "outputId": "34e8c804-36d4-470c-bbc6-867af099a3d3"
      },
      "source": [
        "!zip -r /content/sys_model.zip /content/sys_model"
      ],
      "execution_count": 27,
      "outputs": [
        {
          "output_type": "stream",
          "text": [
            "  adding: content/sys_model/ (stored 0%)\n",
            "  adding: content/sys_model/assets/ (stored 0%)\n",
            "  adding: content/sys_model/keras_metadata.pb (deflated 91%)\n",
            "  adding: content/sys_model/saved_model.pb (deflated 90%)\n",
            "  adding: content/sys_model/variables/ (stored 0%)\n",
            "  adding: content/sys_model/variables/variables.data-00000-of-00001 (deflated 7%)\n",
            "  adding: content/sys_model/variables/variables.index (deflated 69%)\n"
          ],
          "name": "stdout"
        }
      ]
    },
    {
      "cell_type": "code",
      "metadata": {
        "id": "Bx2LFmmD_HkN"
      },
      "source": [
        "new_model = tf.keras.models.load_model('/content/sys_model')"
      ],
      "execution_count": 28,
      "outputs": []
    },
    {
      "cell_type": "code",
      "metadata": {
        "colab": {
          "base_uri": "https://localhost:8080/"
        },
        "id": "0qWwfvbY_WSZ",
        "outputId": "c479f39f-f51b-4dd2-a589-3d52ed9f8b51"
      },
      "source": [
        "new_model.summary()"
      ],
      "execution_count": 29,
      "outputs": [
        {
          "output_type": "stream",
          "text": [
            "Model: \"sequential\"\n",
            "_________________________________________________________________\n",
            "Layer (type)                 Output Shape              Param #   \n",
            "=================================================================\n",
            "text_vectorization (TextVect (None, None)              0         \n",
            "_________________________________________________________________\n",
            "embedding (Embedding)        (None, None, 64)          64000     \n",
            "_________________________________________________________________\n",
            "bidirectional (Bidirectional (None, None, 128)         66048     \n",
            "_________________________________________________________________\n",
            "bidirectional_1 (Bidirection (None, 64)                41216     \n",
            "_________________________________________________________________\n",
            "dense (Dense)                (None, 32)                2080      \n",
            "_________________________________________________________________\n",
            "dropout (Dropout)            (None, 32)                0         \n",
            "_________________________________________________________________\n",
            "dense_1 (Dense)              (None, 1)                 33        \n",
            "=================================================================\n",
            "Total params: 173,377\n",
            "Trainable params: 173,377\n",
            "Non-trainable params: 0\n",
            "_________________________________________________________________\n"
          ],
          "name": "stdout"
        }
      ]
    },
    {
      "cell_type": "code",
      "metadata": {
        "colab": {
          "base_uri": "https://localhost:8080/"
        },
        "id": "k6Dp-nbd_kMz",
        "outputId": "49c85b0e-82de-41e2-f5ef-fcbc7c16fe33"
      },
      "source": [
        "test_loss, test_acc = new_model.evaluate(test_dataset)\n",
        "\n",
        "print('Test Loss:', test_loss)\n",
        "print('Test Accuracy:', test_acc)"
      ],
      "execution_count": 30,
      "outputs": [
        {
          "output_type": "stream",
          "text": [
            "101/101 [==============================] - 5s 7ms/step - loss: 0.3883 - accuracy: 0.9177\n",
            "Test Loss: 0.38827553391456604\n",
            "Test Accuracy: 0.9176587462425232\n"
          ],
          "name": "stdout"
        }
      ]
    },
    {
      "cell_type": "code",
      "metadata": {
        "colab": {
          "base_uri": "https://localhost:8080/"
        },
        "id": "gpgBBWaltgGV",
        "outputId": "62020f9e-191d-4e85-c85f-9f63e259b932"
      },
      "source": [
        "for example, label in test_dataset.take(2):\n",
        "  print('texts: ', example.numpy()[:3])\n",
        "  print()\n",
        "  print('labels: ', label.numpy()[:3])"
      ],
      "execution_count": 31,
      "outputs": [
        {
          "output_type": "stream",
          "text": [
            "texts:  [b'aku ingin kau selalu ada disini untuk temani hari yang terus berganti karena aku tidak pernah mau untuk sendiri raga dan jiwaku nyaman bersamamu daun jatuh antara pagi dan kau'\n",
            " b'alhamdulillah tidak pernah dan jangan sampai pasti karena doa orangtua yang selalu menyertai dan allah tau aku tidak bisa minta tolong siapa kalau sakit dan tidak pernah memaksakan diri juga kalau badan tidak kuat berenti istirahat toh kalau sakit yang peduli cuma keluarga'\n",
            " b'nabi bersabda barangsiapa yang mengatakan atas namaku apa-apa perkataan yang tidak pernah aku ucapkan maka hendaklah ia mengambil tempat duduknya di neraka hadits shahih riwayat imam bukhari dll hadits ini diriwayatkan juga oleh imam ahmad dengan lafadz yang sama']\n",
            "\n",
            "labels:  [1 1 1]\n",
            "texts:  [b'ning demi aku yang pernah ada dihatimu pergi saja dengan kekasihmu yang baru dan aku yang terluka oleh hatimu mencoba mengobati perihku sendiri'\n",
            " b'kamu selalu tau apa yang aku inginkan namun kamu tidak pernah ingin aku mengatakannya'\n",
            " b'aku memang berjalan pelan pelan tapi aku tidak pernah berjalan mundur ']\n",
            "\n",
            "labels:  [0 0 1]\n"
          ],
          "name": "stdout"
        }
      ]
    },
    {
      "cell_type": "code",
      "metadata": {
        "colab": {
          "base_uri": "https://localhost:8080/"
        },
        "id": "89CV4YRfXnwX",
        "outputId": "11c39c0d-1554-4c1f-a7f9-ea534e026a7e"
      },
      "source": [
        "sample_text = ['kamu selalu tau apa yang aku inginkan namun kamu tidak pernah ingin aku mengatakannya',\n",
        "               'ning demi aku yang pernah ada dihatimu pergi saja dengan kekasihmu yang baru dan aku yang terluka oleh hatimu mencoba mengobati perihku sendiri']\n",
        "for text in sample_text:\n",
        "  predictions = new_model.predict([text])\n",
        "  if predictions > 0.5:\n",
        "    print('Tidak terindikasi depresi')\n",
        "  else:\n",
        "    print('Terindikasi depresi')"
      ],
      "execution_count": 32,
      "outputs": [
        {
          "output_type": "stream",
          "text": [
            "Terindikasi depresi\n",
            "Terindikasi depresi\n"
          ],
          "name": "stdout"
        }
      ]
    },
    {
      "cell_type": "markdown",
      "metadata": {
        "id": "JDwqYfu2-Sjq"
      },
      "source": [
        "# Plot the graph"
      ]
    },
    {
      "cell_type": "code",
      "metadata": {
        "colab": {
          "base_uri": "https://localhost:8080/",
          "height": 385
        },
        "id": "d5W2b6AeX4dc",
        "outputId": "bde0d2de-340f-4038-81b4-ae7c6b2e19ae"
      },
      "source": [
        "import matplotlib.pyplot as plt\n",
        "\n",
        "def plot_graphs(history, metric):\n",
        "  plt.plot(history.history[metric])\n",
        "  plt.plot(history.history['val_'+metric], '')\n",
        "  plt.xlabel(\"Epochs\")\n",
        "  plt.ylabel(metric)\n",
        "  plt.legend([metric, 'val_'+metric])\n",
        "\n",
        "\n",
        "plt.figure(figsize=(16, 6))\n",
        "plt.subplot(1, 2, 1)\n",
        "plot_graphs(history, 'accuracy')\n",
        "plt.subplot(1, 2, 2)\n",
        "plot_graphs(history, 'loss')"
      ],
      "execution_count": 33,
      "outputs": [
        {
          "output_type": "display_data",
          "data": {
            "image/png": "[encoded data removed]",
            "text/plain": [
              "<Figure size 1152x432 with 2 Axes>"
            ]
          },
          "metadata": {
            "tags": [],
            "needs_background": "light"
          }
        }
      ]
    },
    {
      "cell_type": "code",
      "metadata": {
        "id": "e4f4BKcKY1Aq"
      },
      "source": [
        ""
      ],
      "execution_count": null,
      "outputs": []
    }
  ]
}